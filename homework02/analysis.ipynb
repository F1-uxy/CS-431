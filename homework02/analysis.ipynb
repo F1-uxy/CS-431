{
 "cells": [
  {
   "cell_type": "markdown",
   "metadata": {},
   "source": [
    "Start off with single parallel for each nested for loop\n",
    "Then created nested parallelism and see if it improve"
   ]
  }
 ],
 "metadata": {
  "language_info": {
   "name": "python"
  }
 },
 "nbformat": 4,
 "nbformat_minor": 2
}
